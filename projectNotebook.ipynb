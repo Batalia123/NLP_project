{
 "cells": [
  {
   "cell_type": "code",
   "execution_count": 1,
   "id": "9590f578",
   "metadata": {},
   "outputs": [],
   "source": [
    "import numpy as np \n",
    "import math\n",
    "import pandas as pd\n",
    "import collections\n",
    "from itertools import permutations\n",
    "\n",
    "from sklearn.ensemble import GradientBoostingClassifier\n",
    "from sklearn.ensemble import RandomForestClassifier\n",
    "from sklearn.tree import DecisionTreeClassifier\n",
    "from sklearn.model_selection import train_test_split \n",
    "from sklearn.decomposition import PCA\n",
    "from sklearn.preprocessing import StandardScaler\n",
    "from sklearn import metrics\n",
    "from sklearn.metrics import confusion_matrix\n",
    "from sklearn.metrics import classification_report\n",
    "from sklearn.metrics import roc_auc_score\n",
    "from sklearn.metrics import roc_curve\n",
    "from sklearn.metrics import accuracy_score\n",
    "from sklearn.metrics import log_loss\n",
    "\n",
    "import pickle\n",
    "\n",
    "import random\n",
    "import seaborn as sns\n",
    "sns.set(style=\"ticks\")\n",
    "import matplotlib.pyplot as plt\n",
    "import warnings\n",
    "warnings.filterwarnings('ignore')"
   ]
  },
  {
   "cell_type": "code",
   "execution_count": 2,
   "id": "d98c0c38",
   "metadata": {},
   "outputs": [
    {
     "name": "stdout",
     "output_type": "stream",
     "text": [
      "                                                text   language\n",
      "0                                               text   language\n",
      "1        The quick brown fox jumps over the lazy dog  English  \n",
      "2  My Mum tries to be cool by saying that she lik...  English  \n",
      "3  A purple pig and a green donkey flew a kite in...  English  \n",
      "4  Last Friday I saw a spotted striped blue worm ...  English  \n"
     ]
    }
   ],
   "source": [
    "import pandas as pd\n",
    "\n",
    "df = pd.read_csv('kaggle_english.csv', quotechar='\"', header=None, names=['text', 'language'])\n",
    "\n",
    "# Drop rows with missing values\n",
    "df = df.dropna()\n",
    "\n",
    "# Ensure correct data types\n",
    "df['text'] = df['text'].astype(str)\n",
    "df['language'] = df['language'].astype(str)\n",
    "\n",
    "print(df.head())\n"
   ]
  },
  {
   "cell_type": "code",
   "execution_count": 67,
   "id": "cd7eae61",
   "metadata": {},
   "outputs": [],
   "source": [
    "sizes = [25, 50, 75, 100, 200, 300, 400, 500]"
   ]
  },
  {
   "cell_type": "code",
   "execution_count": 64,
   "id": "1b72cce4",
   "metadata": {},
   "outputs": [
    {
     "name": "stdout",
     "output_type": "stream",
     "text": [
      "Afrikaans    25\n",
      "Name: language, dtype: int64\n",
      "Afrikaans    50\n",
      "Name: language, dtype: int64\n",
      "Afrikaans    75\n",
      "Name: language, dtype: int64\n",
      "Afrikaans    100\n",
      "Name: language, dtype: int64\n",
      "Afrikaans    200\n",
      "Name: language, dtype: int64\n",
      "Afrikaans    300\n",
      "Name: language, dtype: int64\n",
      "Afrikaans    400\n",
      "Name: language, dtype: int64\n",
      "Afrikaans    500\n",
      "Name: language, dtype: int64\n"
     ]
    }
   ],
   "source": [
    "import pandas as pd\n",
    "import random\n",
    "\n",
    "for input_size in sizes:\n",
    "    column_names = [\"text\", \"language\"]\n",
    "\n",
    "    df = pd.read_csv('kaggle_afrikaans.csv', header=None, names=column_names)\n",
    "    df = df.dropna(subset=['text'])\n",
    "\n",
    "    df_combined = pd.concat([\n",
    "        df[df['language'] == 'Afrikaans'].head(input_size),\n",
    "    ])\n",
    "\n",
    "\n",
    "    df_combined = df_combined.sample(frac=1, random_state=random.randint(0, 10000)).reset_index(drop=True)\n",
    "    df_combined.to_csv(f'afrikaans/input_afrikaans_{input_size}.csv', index=False, header=True)\n",
    "\n",
    "    df = pd.read_csv(f'afrikaans/input_afrikaans_{input_size}.csv')\n",
    "\n",
    "    df['text'] = df['text'].astype(str)\n",
    "    df['language'] = df['language'].astype(str)\n",
    "\n",
    "    print(df['language'].value_counts())\n",
    "    #print(len(df))\n"
   ]
  },
  {
   "cell_type": "code",
   "execution_count": 68,
   "id": "252c4354",
   "metadata": {},
   "outputs": [
    {
     "name": "stdout",
     "output_type": "stream",
     "text": [
      " \u001b[0m\u001b[01;34mafrikaans\u001b[0m/   input_english_100.csv   kaggle_nederland.csv   \u001b[01;34m'Untitled Folder'\u001b[0m/\r\n",
      " \u001b[01;34menglish\u001b[0m/     kaggle_afrikaans.csv    \u001b[01;34mnederland\u001b[0m/\r\n",
      " \u001b[01;34minput\u001b[0m/       kaggle_english.csv      projectNotebook.ipynb\r\n"
     ]
    }
   ],
   "source": [
    "ls"
   ]
  },
  {
   "cell_type": "code",
   "execution_count": 74,
   "id": "51b4b64a",
   "metadata": {},
   "outputs": [
    {
     "name": "stdout",
     "output_type": "stream",
     "text": [
      " English      25\n",
      "Nederlands    25\n",
      "Afrikaans     25\n",
      "Name: language, dtype: int64\n",
      "75\n",
      "Nederlands    50\n",
      " English      50\n",
      "Afrikaans     50\n",
      "Name: language, dtype: int64\n",
      "150\n",
      "Afrikaans     75\n",
      " English      75\n",
      "Nederlands    75\n",
      "Name: language, dtype: int64\n",
      "225\n",
      "Nederlands    100\n",
      " English      100\n",
      "Afrikaans     100\n",
      "Name: language, dtype: int64\n",
      "300\n",
      "Nederlands    200\n",
      "Afrikaans     200\n",
      " English      200\n",
      "Name: language, dtype: int64\n",
      "600\n",
      " English      300\n",
      "Nederlands    300\n",
      "Afrikaans     300\n",
      "Name: language, dtype: int64\n",
      "900\n",
      "Nederlands    400\n",
      "Afrikaans     400\n",
      " English      400\n",
      "Name: language, dtype: int64\n",
      "1200\n",
      "Afrikaans     500\n",
      "Nederlands    500\n",
      " English      493\n",
      "Name: language, dtype: int64\n",
      "1493\n"
     ]
    }
   ],
   "source": [
    "import pandas as pd\n",
    "import random\n",
    "\n",
    "column_names = [\"text\", \"language\"]\n",
    "\n",
    "for input_size in sizes:\n",
    "    df1 = pd.read_csv(f'english/input_english_{input_size}.csv', header=None, names=column_names)\n",
    "    df1 = df1.dropna(subset=['text'])\n",
    "    df2 = pd.read_csv(f'nederland/input_nederland_{input_size}.csv', header=None, names=column_names)\n",
    "    df2 = df2.dropna(subset=['text'])\n",
    "    df3 = pd.read_csv(f'afrikaans/input_afrikaans_{input_size}.csv', header=None, names=column_names)\n",
    "    df3 = df3.dropna(subset=['text'])\n",
    "\n",
    "\n",
    "    df_combined = pd.concat([\n",
    "        df1[df1['language'] == ' English'].head(input_size),\n",
    "        df2[df2['language'] == 'Nederlands'].head(input_size),\n",
    "        df3[df3['language'] == 'Afrikaans'].head(input_size),\n",
    "    ])\n",
    "    #print(df[~((df['language'] == 'Afrikaans') | (df['language'] == 'Nederlands') | (df['language'] == 'English'))])\n",
    "\n",
    "\n",
    "    df_combined = df_combined.sample(frac=1, random_state=random.randint(0, 10000)).reset_index(drop=True)\n",
    "    df_combined.to_csv(f'input_{input_size}_shuffled.csv', index=False, header=True)\n",
    "\n",
    "    df = pd.read_csv(f'input_{input_size}_shuffled.csv')\n",
    "\n",
    "    df['text'] = df['text'].astype(str)\n",
    "    df['language'] = df['language'].astype(str)\n",
    "\n",
    "    print(df['language'].value_counts())\n",
    "    print(len(df))\n"
   ]
  },
  {
   "cell_type": "code",
   "execution_count": null,
   "id": "291cc232",
   "metadata": {},
   "outputs": [],
   "source": []
  }
 ],
 "metadata": {
  "kernelspec": {
   "display_name": "Python 3 (ipykernel)",
   "language": "python",
   "name": "python3"
  },
  "language_info": {
   "codemirror_mode": {
    "name": "ipython",
    "version": 3
   },
   "file_extension": ".py",
   "mimetype": "text/x-python",
   "name": "python",
   "nbconvert_exporter": "python",
   "pygments_lexer": "ipython3",
   "version": "3.10.6"
  }
 },
 "nbformat": 4,
 "nbformat_minor": 5
}
